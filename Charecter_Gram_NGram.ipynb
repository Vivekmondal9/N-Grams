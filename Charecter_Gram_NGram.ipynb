{
 "cells": [
  {
   "cell_type": "code",
   "execution_count": 2,
   "id": "a610a0f2",
   "metadata": {},
   "outputs": [
    {
     "name": "stdout",
     "output_type": "stream",
     "text": [
      "[' ', ' ']\n",
      "['w', 'w']\n",
      "['a', 'a']\n",
      "['r', 'r']\n",
      "['m', 'm']\n",
      "['i', 'i']\n",
      "['n', 'n']\n",
      "['g', 'g']\n",
      "[' ', ' ']\n",
      "['o', 'i']\n",
      "['m']\n",
      "['p']\n",
      "['l']\n",
      "['i']\n",
      "['e']\n",
      "['s']\n",
      "[' ']\n",
      "['a']\n",
      "['n']\n",
      "[' ']\n",
      "['i']\n",
      "['n']\n",
      "['c']\n",
      "['r']\n",
      "['e']\n",
      "['a']\n",
      "['s']\n",
      "['e']\n",
      "[' ']\n",
      "['i']\n",
      "['n']\n",
      "[' ']\n",
      "['t']\n",
      "['h']\n",
      "['e', 'e']\n",
      "[' ', ' ']\n",
      "['a', 'e']\n",
      "['a']\n",
      "['r']\n",
      "['t']\n",
      "['h']\n",
      "['’']\n",
      "['s']\n",
      "[' ']\n",
      "['a']\n",
      "['t']\n",
      "['m']\n",
      "['o']\n",
      "['s']\n",
      "['p']\n",
      "['h']\n",
      "['e']\n",
      "['r']\n",
      "['e']\n",
      "['.']\n",
      "Global warming implies an increase in the earth’s atmosphere.\n"
     ]
    }
   ],
   "source": [
    "# Natural Language Processing using Python\n",
    "\n",
    "# N-Gram Modelling - Character Grams\n",
    "# Importing libraries\n",
    "import random\n",
    "\n",
    "# Sample data\n",
    "text = \"\"\"Global warming or climate change has become a worldwide concern.\n",
    "It is gradually developing into an unprecedented environmental crisis evident in melting glaciers,\n",
    "changing weather patterns, rising sea levels, floods, cyclones and droughts.\n",
    "Global warming implies an increase in the average temperature of the Earth due to entrapment of greenhouse gases in the earth’s atmosphere.\"\"\"\n",
    "\n",
    "# Order of the grams\n",
    "n = 6\n",
    "\n",
    "# Our N-Grams\n",
    "ngrams = {}\n",
    "\n",
    "# Creating the model\n",
    "for i in range(len(text)-n):\n",
    "    gram = text[i:i+n]\n",
    "    if gram not in ngrams.keys():\n",
    "        ngrams[gram] = []\n",
    "    ngrams[gram].append(text[i+n])\n",
    "# print(ngrams)     \n",
    "# Testing our N-Gram Model    \n",
    "currentGram = text[0:n]\n",
    "result = currentGram\n",
    "for i in range(100):\n",
    "    if currentGram not in ngrams.keys():\n",
    "        break\n",
    "    possibilities = ngrams[currentGram]\n",
    "    print(possibilities)\n",
    "    nextItem = possibilities[random.randrange(len(possibilities))]\n",
    "#     print(nextItem)\n",
    "    result += nextItem\n",
    "    currentGram = result[len(result)-n:len(result)]\n",
    "print(result)"
   ]
  },
  {
   "cell_type": "code",
   "execution_count": null,
   "id": "7c2a922f",
   "metadata": {},
   "outputs": [],
   "source": []
  },
  {
   "cell_type": "code",
   "execution_count": null,
   "id": "9aca96e7",
   "metadata": {},
   "outputs": [],
   "source": []
  },
  {
   "cell_type": "code",
   "execution_count": null,
   "id": "7b16ae51",
   "metadata": {},
   "outputs": [],
   "source": []
  },
  {
   "cell_type": "code",
   "execution_count": null,
   "id": "ff634f16",
   "metadata": {},
   "outputs": [],
   "source": []
  },
  {
   "cell_type": "code",
   "execution_count": null,
   "id": "c92f0387",
   "metadata": {},
   "outputs": [],
   "source": []
  },
  {
   "cell_type": "code",
   "execution_count": null,
   "id": "c26edbd5",
   "metadata": {},
   "outputs": [],
   "source": []
  },
  {
   "cell_type": "code",
   "execution_count": null,
   "id": "d0041e7d",
   "metadata": {},
   "outputs": [],
   "source": []
  },
  {
   "cell_type": "code",
   "execution_count": null,
   "id": "7c63c302",
   "metadata": {},
   "outputs": [],
   "source": []
  },
  {
   "cell_type": "code",
   "execution_count": null,
   "id": "5bd8fb25",
   "metadata": {},
   "outputs": [],
   "source": []
  }
 ],
 "metadata": {
  "kernelspec": {
   "display_name": "Python 3 (ipykernel)",
   "language": "python",
   "name": "python3"
  },
  "language_info": {
   "codemirror_mode": {
    "name": "ipython",
    "version": 3
   },
   "file_extension": ".py",
   "mimetype": "text/x-python",
   "name": "python",
   "nbconvert_exporter": "python",
   "pygments_lexer": "ipython3",
   "version": "3.10.9"
  }
 },
 "nbformat": 4,
 "nbformat_minor": 5
}
