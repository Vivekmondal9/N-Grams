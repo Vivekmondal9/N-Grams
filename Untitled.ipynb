{
 "cells": [
  {
   "cell_type": "code",
   "execution_count": 1,
   "id": "6ff9088e",
   "metadata": {},
   "outputs": [
    {
     "name": "stdout",
     "output_type": "stream",
     "text": [
      "{'Global': [' ', ' '], 'lobal ': ['w', 'w'], 'obal w': ['a', 'a'], 'bal wa': ['r', 'r'], 'al war': ['m', 'm'], 'l warm': ['i', 'i'], ' warmi': ['n', 'n'], 'warmin': ['g', 'g'], 'arming': [' ', ' '], 'rming ': ['o', 'i'], 'ming o': ['r'], 'ing or': [' '], 'ng or ': ['c'], 'g or c': ['l'], ' or cl': ['i'], 'or cli': ['m'], 'r clim': ['a'], ' clima': ['t'], 'climat': ['e'], 'limate': [' '], 'imate ': ['c'], 'mate c': ['h'], 'ate ch': ['a'], 'te cha': ['n'], 'e chan': ['g'], ' chang': ['e'], 'change': [' '], 'hange ': ['h'], 'ange h': ['a'], 'nge ha': ['s'], 'ge has': [' '], 'e has ': ['b'], ' has b': ['e'], 'has be': ['c'], 'as bec': ['o'], 's beco': ['m'], ' becom': ['e'], 'become': [' '], 'ecome ': ['a'], 'come a': [' '], 'ome a ': ['w'], 'me a w': ['o'], 'e a wo': ['r'], ' a wor': ['l'], 'a worl': ['d'], ' world': ['w'], 'worldw': ['i'], 'orldwi': ['d'], 'rldwid': ['e'], 'ldwide': [' '], 'dwide ': ['c'], 'wide c': ['o'], 'ide co': ['n'], 'de con': ['c'], 'e conc': ['e'], ' conce': ['r'], 'concer': ['n'], 'oncern': ['.'], 'ncern.': ['\\n'], 'cern.\\n': ['I'], 'ern.\\nI': ['t'], 'rn.\\nIt': [' '], 'n.\\nIt ': ['i'], '.\\nIt i': ['s'], '\\nIt is': [' '], 'It is ': ['g'], 't is g': ['r'], ' is gr': ['a'], 'is gra': ['d'], 's grad': ['u'], ' gradu': ['a'], 'gradua': ['l'], 'radual': ['l'], 'aduall': ['y'], 'dually': [' '], 'ually ': ['d'], 'ally d': ['e'], 'lly de': ['v'], 'ly dev': ['e'], 'y deve': ['l'], ' devel': ['o'], 'develo': ['p'], 'evelop': ['i'], 'velopi': ['n'], 'elopin': ['g'], 'loping': [' '], 'oping ': ['i'], 'ping i': ['n'], 'ing in': ['t'], 'ng int': ['o'], 'g into': [' '], ' into ': ['a'], 'into a': ['n'], 'nto an': [' '], 'to an ': ['u'], 'o an u': ['n'], ' an un': ['p'], 'an unp': ['r'], 'n unpr': ['e'], ' unpre': ['c'], 'unprec': ['e'], 'nprece': ['d'], 'preced': ['e'], 'recede': ['n'], 'eceden': ['t'], 'cedent': ['e'], 'edente': ['d'], 'dented': [' '], 'ented ': ['e'], 'nted e': ['n'], 'ted en': ['v'], 'ed env': ['i'], 'd envi': ['r'], ' envir': ['o'], 'enviro': ['n'], 'nviron': ['m'], 'vironm': ['e'], 'ironme': ['n'], 'ronmen': ['t'], 'onment': ['a'], 'nmenta': ['l'], 'mental': [' '], 'ental ': ['c'], 'ntal c': ['r'], 'tal cr': ['i'], 'al cri': ['s'], 'l cris': ['i'], ' crisi': ['s'], 'crisis': [' '], 'risis ': ['e'], 'isis e': ['v'], 'sis ev': ['i'], 'is evi': ['d'], 's evid': ['e'], ' evide': ['n'], 'eviden': ['t'], 'vident': [' '], 'ident ': ['i'], 'dent i': ['n'], 'ent in': [' '], 'nt in ': ['m'], 't in m': ['e'], ' in me': ['l'], 'in mel': ['t'], 'n melt': ['i'], ' melti': ['n'], 'meltin': ['g'], 'elting': [' '], 'lting ': ['g'], 'ting g': ['l'], 'ing gl': ['a'], 'ng gla': ['c'], 'g glac': ['i'], ' glaci': ['e'], 'glacie': ['r'], 'lacier': ['s'], 'aciers': [','], 'ciers,': ['\\n'], 'iers,\\n': ['c'], 'ers,\\nc': ['h'], 'rs,\\nch': ['a'], 's,\\ncha': ['n'], ',\\nchan': ['g'], '\\nchang': ['i'], 'changi': ['n'], 'hangin': ['g'], 'anging': [' '], 'nging ': ['w'], 'ging w': ['e'], 'ing we': ['a'], 'ng wea': ['t'], 'g weat': ['h'], ' weath': ['e'], 'weathe': ['r'], 'eather': [' '], 'ather ': ['p'], 'ther p': ['a'], 'her pa': ['t'], 'er pat': ['t'], 'r patt': ['e'], ' patte': ['r'], 'patter': ['n'], 'attern': ['s'], 'tterns': [','], 'terns,': [' '], 'erns, ': ['r'], 'rns, r': ['i'], 'ns, ri': ['s'], 's, ris': ['i'], ', risi': ['n'], ' risin': ['g'], 'rising': [' '], 'ising ': ['s'], 'sing s': ['e'], 'ing se': ['a'], 'ng sea': [' '], 'g sea ': ['l'], ' sea l': ['e'], 'sea le': ['v'], 'ea lev': ['e'], 'a leve': ['l'], ' level': ['s'], 'levels': [','], 'evels,': [' '], 'vels, ': ['f'], 'els, f': ['l'], 'ls, fl': ['o'], 's, flo': ['o'], ', floo': ['d'], ' flood': ['s'], 'floods': [','], 'loods,': [' '], 'oods, ': ['c'], 'ods, c': ['y'], 'ds, cy': ['c'], 's, cyc': ['l'], ', cycl': ['o'], ' cyclo': ['n'], 'cyclon': ['e'], 'yclone': ['s'], 'clones': [' '], 'lones ': ['a'], 'ones a': ['n'], 'nes an': ['d'], 'es and': [' '], 's and ': ['d'], ' and d': ['r'], 'and dr': ['o'], 'nd dro': ['u'], 'd drou': ['g'], ' droug': ['h'], 'drough': ['t'], 'rought': ['s'], 'oughts': ['.'], 'ughts.': ['\\n'], 'ghts.\\n': ['G'], 'hts.\\nG': ['l'], 'ts.\\nGl': ['o'], 's.\\nGlo': ['b'], '.\\nGlob': ['a'], '\\nGloba': ['l'], 'ming i': ['m'], 'ing im': ['p'], 'ng imp': ['l'], 'g impl': ['i'], ' impli': ['e'], 'implie': ['s'], 'mplies': [' '], 'plies ': ['a'], 'lies a': ['n'], 'ies an': [' '], 'es an ': ['i'], 's an i': ['n'], ' an in': ['c'], 'an inc': ['r'], 'n incr': ['e'], ' incre': ['a'], 'increa': ['s'], 'ncreas': ['e'], 'crease': [' '], 'rease ': ['i'], 'ease i': ['n'], 'ase in': [' '], 'se in ': ['t'], 'e in t': ['h'], ' in th': ['e', 'e'], 'in the': [' ', ' '], 'n the ': ['a', 'e'], ' the a': ['v'], 'the av': ['e'], 'he ave': ['r'], 'e aver': ['a'], ' avera': ['g'], 'averag': ['e'], 'verage': [' '], 'erage ': ['t'], 'rage t': ['e'], 'age te': ['m'], 'ge tem': ['p'], 'e temp': ['e'], ' tempe': ['r'], 'temper': ['a'], 'empera': ['t'], 'mperat': ['u'], 'peratu': ['r'], 'eratur': ['e'], 'rature': [' '], 'ature ': ['o'], 'ture o': ['f'], 'ure of': [' '], 're of ': ['t'], 'e of t': ['h'], ' of th': ['e'], 'of the': [' '], 'f the ': ['E'], ' the E': ['a'], 'the Ea': ['r'], 'he Ear': ['t'], 'e Eart': ['h'], ' Earth': [' '], 'Earth ': ['d'], 'arth d': ['u'], 'rth du': ['e'], 'th due': [' '], 'h due ': ['t'], ' due t': ['o'], 'due to': [' '], 'ue to ': ['e'], 'e to e': ['n'], ' to en': ['t'], 'to ent': ['r'], 'o entr': ['a'], ' entra': ['p'], 'entrap': ['m'], 'ntrapm': ['e'], 'trapme': ['n'], 'rapmen': ['t'], 'apment': [' '], 'pment ': ['o'], 'ment o': ['f'], 'ent of': [' '], 'nt of ': ['g'], 't of g': ['r'], ' of gr': ['e'], 'of gre': ['e'], 'f gree': ['n'], ' green': ['h'], 'greenh': ['o'], 'reenho': ['u'], 'eenhou': ['s'], 'enhous': ['e'], 'nhouse': [' '], 'house ': ['g'], 'ouse g': ['a'], 'use ga': ['s'], 'se gas': ['e'], 'e gase': ['s'], ' gases': [' '], 'gases ': ['i'], 'ases i': ['n'], 'ses in': [' '], 'es in ': ['t'], 's in t': ['h'], ' the e': ['a'], 'the ea': ['r'], 'he ear': ['t'], 'e eart': ['h'], ' earth': ['’'], 'earth’': ['s'], 'arth’s': [' '], 'rth’s ': ['a'], 'th’s a': ['t'], 'h’s at': ['m'], '’s atm': ['o'], 's atmo': ['s'], ' atmos': ['p'], 'atmosp': ['h'], 'tmosph': ['e'], 'mosphe': ['r'], 'ospher': ['e'], 'sphere': ['.']}\n",
      "Global warming or climate change has become a worldwide concern.\n",
      "It is gradually developing into an unprec\n"
     ]
    }
   ],
   "source": [
    "import random\n",
    "text = \"\"\"Global warming or climate change has become a worldwide concern.\n",
    "It is gradually developing into an unprecedented environmental crisis evident in melting glaciers,\n",
    "changing weather patterns, rising sea levels, floods, cyclones and droughts.\n",
    "Global warming implies an increase in the average temperature of the Earth due to entrapment of greenhouse gases in the earth’s atmosphere.\"\"\"\n",
    "\n",
    "n=6\n",
    "ngrams={}\n",
    "\n",
    "for i in range(len(text)-n):\n",
    "    gram=text[i:i+n]\n",
    "    if gram not in ngrams.keys():\n",
    "        ngrams[gram]=[]\n",
    "    ngrams[gram].append(text[i+n])\n",
    "\n",
    "print(ngrams)   \n",
    "currentGram=text[0:n]\n",
    "result=currentGram \n",
    "\n",
    "\n",
    "for i in range(100):\n",
    "    if currentGram not in ngrams.keys():\n",
    "        break\n",
    "    possibilities=ngrams[currentGram]\n",
    "    newItem=possibilities[random.randrange(len(possibilities))]\n",
    "    result+=newItem\n",
    "    \n",
    "    \n",
    "    currentGram=result[len(result)-n:len(result)]\n",
    "    \n",
    "print(result)    \n",
    "    "
   ]
  },
  {
   "cell_type": "code",
   "execution_count": 5,
   "id": "5bf8ab68",
   "metadata": {},
   "outputs": [
    {
     "name": "stdout",
     "output_type": "stream",
     "text": [
      "[main 80d201d] adding files\n",
      " 2 files changed, 520 insertions(+), 96 deletions(-)\n",
      "Enumerating objects: 9, done.\n",
      "Counting objects: 100% (9/9), done.\n",
      "Delta compression using up to 10 threads\n",
      "Compressing objects: 100% (5/5), done.\n",
      "Writing objects: 100% (5/5), 2.89 KiB | 2.89 MiB/s, done.\n",
      "Total 5 (delta 2), reused 0 (delta 0), pack-reused 0\n",
      "remote: Resolving deltas: 100% (2/2), completed with 2 local objects.\u001b[K\n",
      "To https://github.com/Vivekmondal9/N-Grams.git\n",
      "   2ce7af5..80d201d  main -> main\n"
     ]
    }
   ],
   "source": [
    "!git add .\n",
    "!git commit -m \"adding files\"\n",
    "!git push origin main"
   ]
  },
  {
   "cell_type": "code",
   "execution_count": null,
   "id": "04d0ed76",
   "metadata": {},
   "outputs": [],
   "source": []
  },
  {
   "cell_type": "code",
   "execution_count": null,
   "id": "553bacf2",
   "metadata": {},
   "outputs": [],
   "source": []
  },
  {
   "cell_type": "code",
   "execution_count": null,
   "id": "cc5c5dad",
   "metadata": {},
   "outputs": [],
   "source": []
  },
  {
   "cell_type": "code",
   "execution_count": null,
   "id": "61a92e13",
   "metadata": {},
   "outputs": [],
   "source": []
  },
  {
   "cell_type": "code",
   "execution_count": null,
   "id": "e585ec63",
   "metadata": {},
   "outputs": [],
   "source": []
  },
  {
   "cell_type": "code",
   "execution_count": null,
   "id": "8c699431",
   "metadata": {},
   "outputs": [],
   "source": []
  },
  {
   "cell_type": "code",
   "execution_count": null,
   "id": "a73c574a",
   "metadata": {},
   "outputs": [],
   "source": []
  },
  {
   "cell_type": "code",
   "execution_count": null,
   "id": "02d541ec",
   "metadata": {},
   "outputs": [],
   "source": []
  },
  {
   "cell_type": "code",
   "execution_count": null,
   "id": "6ce997bf",
   "metadata": {},
   "outputs": [],
   "source": []
  },
  {
   "cell_type": "code",
   "execution_count": null,
   "id": "78cdde3e",
   "metadata": {},
   "outputs": [],
   "source": []
  },
  {
   "cell_type": "code",
   "execution_count": null,
   "id": "0e4f17b4",
   "metadata": {},
   "outputs": [],
   "source": []
  }
 ],
 "metadata": {
  "kernelspec": {
   "display_name": "Python 3 (ipykernel)",
   "language": "python",
   "name": "python3"
  },
  "language_info": {
   "codemirror_mode": {
    "name": "ipython",
    "version": 3
   },
   "file_extension": ".py",
   "mimetype": "text/x-python",
   "name": "python",
   "nbconvert_exporter": "python",
   "pygments_lexer": "ipython3",
   "version": "3.10.9"
  }
 },
 "nbformat": 4,
 "nbformat_minor": 5
}
