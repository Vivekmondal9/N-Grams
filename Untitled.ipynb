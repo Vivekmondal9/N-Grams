{
 "cells": [
  {
   "cell_type": "code",
   "execution_count": 1,
   "id": "1916127d",
   "metadata": {},
   "outputs": [],
   "source": [
    "import random\n",
    "text = \"\"\"Global warming or climate change has become a worldwide concern.\n",
    "It is gradually developing into an unprecedented environmental crisis evident in melting glaciers,\n",
    "changing weather patterns, rising sea levels, floods, cyclones and droughts.\n",
    "Global warming implies an increase in the average temperature of the Earth due to entrapment of greenhouse gases in the earth’s atmosphere.\"\"\"\n"
   ]
  },
  {
   "cell_type": "code",
   "execution_count": 3,
   "id": "abaf09fd",
   "metadata": {},
   "outputs": [
    {
     "name": "stdout",
     "output_type": "stream",
     "text": [
      "Global warming implies an increase in the earth’s atmosphere.\n"
     ]
    }
   ],
   "source": [
    "n=6\n",
    "ngramgs={}\n",
    "\n",
    "for i in range(len(text)-n):\n",
    "    gram=text[i:i+n]\n",
    "#     print(gram)\n",
    "    if gram not in ngramgs.keys():\n",
    "        ngramgs[gram]=[]\n",
    "    ngramgs[gram].append(text[i+n])\n",
    "# print(ngramgs) \n",
    "# print(\"*\"*100)\n",
    "\n",
    "currentGram=text[0:n]\n",
    "result=currentGram\n",
    "\n",
    "for i in range(100):\n",
    "    if currentGram not in ngramgs.keys():\n",
    "        break\n",
    "    possibilities=ngramgs[currentGram]\n",
    "#     print(possibilities)\n",
    "    newItem=possibilities[random.randrange(len(possibilities))]\n",
    "    result+=newItem\n",
    "    \n",
    "    currentGram=result[len(result)-n:len(result)]\n",
    "    \n",
    "print(result)    \n"
   ]
  },
  {
   "cell_type": "code",
   "execution_count": null,
   "id": "0c1855ee",
   "metadata": {},
   "outputs": [],
   "source": []
  },
  {
   "cell_type": "code",
   "execution_count": null,
   "id": "f99c90fb",
   "metadata": {},
   "outputs": [],
   "source": []
  },
  {
   "cell_type": "code",
   "execution_count": null,
   "id": "cf37b746",
   "metadata": {},
   "outputs": [],
   "source": []
  },
  {
   "cell_type": "code",
   "execution_count": null,
   "id": "7667f301",
   "metadata": {},
   "outputs": [],
   "source": []
  },
  {
   "cell_type": "code",
   "execution_count": null,
   "id": "7b64727a",
   "metadata": {},
   "outputs": [],
   "source": []
  }
 ],
 "metadata": {
  "kernelspec": {
   "display_name": "Python 3 (ipykernel)",
   "language": "python",
   "name": "python3"
  },
  "language_info": {
   "codemirror_mode": {
    "name": "ipython",
    "version": 3
   },
   "file_extension": ".py",
   "mimetype": "text/x-python",
   "name": "python",
   "nbconvert_exporter": "python",
   "pygments_lexer": "ipython3",
   "version": "3.10.9"
  }
 },
 "nbformat": 4,
 "nbformat_minor": 5
}
