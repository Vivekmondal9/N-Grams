{
 "cells": [
  {
   "cell_type": "code",
   "execution_count": 13,
   "id": "17bde5d2",
   "metadata": {},
   "outputs": [
    {
     "name": "stdout",
     "output_type": "stream",
     "text": [
      "Global warming or climate\n"
     ]
    }
   ],
   "source": [
    "import nltk\n",
    "from nltk import word_tokenize\n",
    "import random \n",
    "\n",
    "text = \"\"\"Global warming or climate change has become a worldwide concern.\n",
    "It is gradually developing into an unprecedented environmental crisis evident in melting glaciers,\n",
    "changing weather patterns, rising sea levels, floods, cyclones and droughts.\n",
    "Global warming implies an increase in the average temperature of the Earth due to entrapment of greenhouse gases in the earth’s atmosphere.\"\"\"\n",
    "\n",
    "n=3\n",
    "\n",
    "ngrams={}\n",
    "\n",
    "words=word_tokenize(text)\n",
    "# print(words)\n",
    "\n",
    "for i in range(len(words)-n):\n",
    "    \n",
    "    gram=\" \".join(words[i:i+n])\n",
    "    if gram not in ngrams.keys():\n",
    "        ngrams[gram]=[]\n",
    "    ngrams[gram].append(words[i+n])\n",
    "currentGram=\" \".join(words[0:n]) \n",
    "result=currentGram\n",
    "\n",
    "for i in range(30):\n",
    "    if currentGram not in ngrams.keys():\n",
    "        break\n",
    "    possibilities=ngrams[currentGram]\n",
    "    nextItem=possibilities[random.randrange(len(possibilities))]\n",
    "    result+=\" \"+nextItem\n",
    "    rwords=word_tokenize(result)\n",
    "    \n",
    "    currentGram=\" \".join(result[len(result)-n:len(result)])\n",
    "print(result)    \n"
   ]
  }
 ],
 "metadata": {
  "kernelspec": {
   "display_name": "Python 3 (ipykernel)",
   "language": "python",
   "name": "python3"
  },
  "language_info": {
   "codemirror_mode": {
    "name": "ipython",
    "version": 3
   },
   "file_extension": ".py",
   "mimetype": "text/x-python",
   "name": "python",
   "nbconvert_exporter": "python",
   "pygments_lexer": "ipython3",
   "version": "3.10.9"
  }
 },
 "nbformat": 4,
 "nbformat_minor": 5
}
