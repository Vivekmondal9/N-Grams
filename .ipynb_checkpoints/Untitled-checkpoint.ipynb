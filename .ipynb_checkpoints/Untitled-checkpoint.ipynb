{
 "cells": [
  {
   "cell_type": "code",
   "execution_count": 7,
   "id": "273cd4b3",
   "metadata": {},
   "outputs": [],
   "source": [
    "import random\n",
    "text = \"\"\"Global warming or climate change has become a worldwide concern.\n",
    "It is gradually developing into an unprecedented environmental crisis evident in melting glaciers,\n",
    "changing weather patterns, rising sea levels, floods, cyclones and droughts.\n",
    "Global warming implies an increase in the average temperature of the Earth due to entrapment of greenhouse gases in the earth’s atmosphere.\"\"\"\n"
   ]
  },
  {
   "cell_type": "code",
   "execution_count": 8,
   "id": "96e6851a",
   "metadata": {},
   "outputs": [
    {
     "name": "stdout",
     "output_type": "stream",
     "text": [
      "{'Glo': ['b', 'b'], 'lob': ['a', 'a'], 'oba': ['l', 'l'], 'bal': [' ', ' '], 'al ': ['w', 'c', 'w'], 'l w': ['a', 'a'], ' wa': ['r', 'r'], 'war': ['m', 'm'], 'arm': ['i', 'i'], 'rmi': ['n', 'n'], 'min': ['g', 'g'], 'ing': [' ', ' ', ' ', ' ', ' ', ' '], 'ng ': ['o', 'i', 'g', 'w', 's', 'i'], 'g o': ['r'], ' or': [' '], 'or ': ['c'], 'r c': ['l'], ' cl': ['i'], 'cli': ['m'], 'lim': ['a'], 'ima': ['t'], 'mat': ['e'], 'ate': [' '], 'te ': ['c'], 'e c': ['h', 'o'], ' ch': ['a'], 'cha': ['n', 'n'], 'han': ['g', 'g'], 'ang': ['e', 'i'], 'nge': [' '], 'ge ': ['h', 't'], 'e h': ['a'], ' ha': ['s'], 'has': [' '], 'as ': ['b'], 's b': ['e'], ' be': ['c'], 'bec': ['o'], 'eco': ['m'], 'com': ['e'], 'ome': [' '], 'me ': ['a'], 'e a': [' ', 'v'], ' a ': ['w'], 'a w': ['o'], ' wo': ['r'], 'wor': ['l'], 'orl': ['d'], 'rld': ['w'], 'ldw': ['i'], 'dwi': ['d'], 'wid': ['e'], 'ide': [' ', 'n'], 'de ': ['c'], ' co': ['n'], 'con': ['c'], 'onc': ['e'], 'nce': ['r'], 'cer': ['n'], 'ern': ['.', 's'], 'rn.': ['\\n'], 'n.\\n': ['I'], '.\\nI': ['t'], '\\nIt': [' '], 'It ': ['i'], 't i': ['s', 'n'], ' is': [' '], 'is ': ['g', 'e'], 's g': ['r'], ' gr': ['a', 'e'], 'gra': ['d'], 'rad': ['u'], 'adu': ['a'], 'dua': ['l'], 'ual': ['l'], 'all': ['y'], 'lly': [' '], 'ly ': ['d'], 'y d': ['e'], ' de': ['v'], 'dev': ['e'], 'eve': ['l', 'l'], 'vel': ['o', 's'], 'elo': ['p'], 'lop': ['i'], 'opi': ['n'], 'pin': ['g'], 'g i': ['n', 'm'], ' in': ['t', ' ', 'c', ' ', ' '], 'int': ['o'], 'nto': [' '], 'to ': ['a', 'e'], 'o a': ['n'], ' an': [' ', 'd', ' '], 'an ': ['u', 'i'], 'n u': ['n'], ' un': ['p'], 'unp': ['r'], 'npr': ['e'], 'pre': ['c'], 'rec': ['e'], 'ece': ['d'], 'ced': ['e'], 'ede': ['n'], 'den': ['t', 't'], 'ent': ['e', 'a', ' ', 'r', ' '], 'nte': ['d'], 'ted': [' '], 'ed ': ['e'], 'd e': ['n'], ' en': ['v', 't'], 'env': ['i'], 'nvi': ['r'], 'vir': ['o'], 'iro': ['n'], 'ron': ['m'], 'onm': ['e'], 'nme': ['n'], 'men': ['t', 't'], 'nta': ['l'], 'tal': [' '], 'l c': ['r'], ' cr': ['i'], 'cri': ['s'], 'ris': ['i', 'i'], 'isi': ['s', 'n'], 'sis': [' '], 's e': ['v'], ' ev': ['i'], 'evi': ['d'], 'vid': ['e'], 'nt ': ['i', 'o'], 'in ': ['m', 't', 't'], 'n m': ['e'], ' me': ['l'], 'mel': ['t'], 'elt': ['i'], 'lti': ['n'], 'tin': ['g'], 'g g': ['l'], ' gl': ['a'], 'gla': ['c'], 'lac': ['i'], 'aci': ['e'], 'cie': ['r'], 'ier': ['s'], 'ers': [','], 'rs,': ['\\n'], 's,\\n': ['c'], ',\\nc': ['h'], '\\nch': ['a'], 'ngi': ['n'], 'gin': ['g'], 'g w': ['e'], ' we': ['a'], 'wea': ['t'], 'eat': ['h'], 'ath': ['e'], 'the': ['r', ' ', ' ', ' '], 'her': [' ', 'e'], 'er ': ['p'], 'r p': ['a'], ' pa': ['t'], 'pat': ['t'], 'att': ['e'], 'tte': ['r'], 'ter': ['n'], 'rns': [','], 'ns,': [' '], 's, ': ['r', 'f', 'c'], ', r': ['i'], ' ri': ['s'], 'sin': ['g'], 'g s': ['e'], ' se': ['a'], 'sea': [' '], 'ea ': ['l'], 'a l': ['e'], ' le': ['v'], 'lev': ['e'], 'els': [','], 'ls,': [' '], ', f': ['l'], ' fl': ['o'], 'flo': ['o'], 'loo': ['d'], 'ood': ['s'], 'ods': [','], 'ds,': [' '], ', c': ['y'], ' cy': ['c'], 'cyc': ['l'], 'ycl': ['o'], 'clo': ['n'], 'lon': ['e'], 'one': ['s'], 'nes': [' '], 'es ': ['a', 'a', 'i'], 's a': ['n', 'n', 't'], 'and': [' '], 'nd ': ['d'], 'd d': ['r'], ' dr': ['o'], 'dro': ['u'], 'rou': ['g'], 'oug': ['h'], 'ugh': ['t'], 'ght': ['s'], 'hts': ['.'], 'ts.': ['\\n'], 's.\\n': ['G'], '.\\nG': ['l'], '\\nGl': ['o'], ' im': ['p'], 'imp': ['l'], 'mpl': ['i'], 'pli': ['e'], 'lie': ['s'], 'ies': [' '], 'n i': ['n'], 'inc': ['r'], 'ncr': ['e'], 'cre': ['a'], 'rea': ['s'], 'eas': ['e'], 'ase': [' ', 's'], 'se ': ['i', 'g'], 'e i': ['n'], 'n t': ['h', 'h'], ' th': ['e', 'e', 'e'], 'he ': ['a', 'E', 'e'], ' av': ['e'], 'ave': ['r'], 'ver': ['a'], 'era': ['g', 't'], 'rag': ['e'], 'age': [' '], 'e t': ['e', 'o'], ' te': ['m'], 'tem': ['p'], 'emp': ['e'], 'mpe': ['r'], 'per': ['a'], 'rat': ['u'], 'atu': ['r'], 'tur': ['e'], 'ure': [' '], 're ': ['o'], 'e o': ['f'], ' of': [' ', ' '], 'of ': ['t', 'g'], 'f t': ['h'], 'e E': ['a'], ' Ea': ['r'], 'Ear': ['t'], 'art': ['h', 'h'], 'rth': [' ', '’'], 'th ': ['d'], 'h d': ['u'], ' du': ['e'], 'due': [' '], 'ue ': ['t'], ' to': [' '], 'o e': ['n'], 'ntr': ['a'], 'tra': ['p'], 'rap': ['m'], 'apm': ['e'], 'pme': ['n'], 't o': ['f'], 'f g': ['r'], 'gre': ['e'], 'ree': ['n'], 'een': ['h'], 'enh': ['o'], 'nho': ['u'], 'hou': ['s'], 'ous': ['e'], 'use': [' '], 'e g': ['a'], ' ga': ['s'], 'gas': ['e'], 'ses': [' '], 's i': ['n'], 'e e': ['a'], ' ea': ['r'], 'ear': ['t'], 'th’': ['s'], 'h’s': [' '], '’s ': ['a'], ' at': ['m'], 'atm': ['o'], 'tmo': ['s'], 'mos': ['p'], 'osp': ['h'], 'sph': ['e'], 'phe': ['r'], 'ere': ['.']}\n"
     ]
    }
   ],
   "source": [
    "n=6\n",
    "ngramgs={}\n",
    "\n",
    "for i in range(len(text)-n):\n",
    "    gram=text[i:i+n]\n",
    "#     print(gram)\n",
    "    if gram not in ngramgs.keys():\n",
    "        ngramgs[gram]=[]\n",
    "    ngramgs[gram].append(text[i+n])\n",
    "print(ngramgs) \n",
    "print(\"*\"(100))\n",
    "\n",
    "currentGram=text[0:n]\n",
    "result=currentGram\n",
    "\n",
    "for i in range(100):\n",
    "    if currentGram not in ngramgs.keys():\n",
    "        break\n",
    "    possibilities=ngramgs[currentGram]\n",
    "#     print(possibilities)\n",
    "    newItem=possibilities[random.randrange(len(possibilities))]\n",
    "    result+=newItem\n",
    "    \n",
    "    currentGram=result[len(result)-n:len(result)]\n",
    "    \n",
    "print(result)    \n"
   ]
  },
  {
   "cell_type": "code",
   "execution_count": 13,
   "id": "1a30f3dd",
   "metadata": {},
   "outputs": [
    {
     "name": "stdout",
     "output_type": "stream",
     "text": [
      "Global warming or climate change to and droughts.\n",
      "Global warming implies in the a worldwident of the ea\n"
     ]
    }
   ],
   "source": [
    "\n"
   ]
  },
  {
   "cell_type": "code",
   "execution_count": null,
   "id": "8191079b",
   "metadata": {},
   "outputs": [],
   "source": []
  },
  {
   "cell_type": "code",
   "execution_count": null,
   "id": "f86b2558",
   "metadata": {},
   "outputs": [],
   "source": []
  },
  {
   "cell_type": "code",
   "execution_count": null,
   "id": "b5690ccc",
   "metadata": {},
   "outputs": [],
   "source": []
  },
  {
   "cell_type": "code",
   "execution_count": null,
   "id": "eea78368",
   "metadata": {},
   "outputs": [],
   "source": []
  },
  {
   "cell_type": "code",
   "execution_count": null,
   "id": "ba92d726",
   "metadata": {},
   "outputs": [],
   "source": []
  }
 ],
 "metadata": {
  "kernelspec": {
   "display_name": "Python 3 (ipykernel)",
   "language": "python",
   "name": "python3"
  },
  "language_info": {
   "codemirror_mode": {
    "name": "ipython",
    "version": 3
   },
   "file_extension": ".py",
   "mimetype": "text/x-python",
   "name": "python",
   "nbconvert_exporter": "python",
   "pygments_lexer": "ipython3",
   "version": "3.10.9"
  }
 },
 "nbformat": 4,
 "nbformat_minor": 5
}
